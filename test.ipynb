{
 "cells": [
  {
   "cell_type": "code",
   "execution_count": 1,
   "id": "a22a542f",
   "metadata": {},
   "outputs": [],
   "source": [
    "from service.rag_processing import TextHandlingService\n",
    "from langchain_openai import OpenAIEmbeddings  \n",
    "from pymongo import MongoClient\n",
    "from langchain_openai import ChatOpenAI\n",
    "from langchain_mongodb import MongoDBAtlasVectorSearch\n",
    "import os\n",
    "from langgraph.graph import MessagesState, StateGraph\n",
    "from langgraph.prebuilt import ToolNode\n",
    "import uuid\n",
    "from langchain_core.messages import SystemMessage\n",
    "from langchain_mongodb import MongoDBChatMessageHistory\n",
    "from service.element import Element\n",
    "from langchain_core.prompts import ChatPromptTemplate\n",
    "from dotenv import load_dotenv\n",
    "from langchain_core.messages import AIMessage\n",
    "from slack_sdk import WebClient\n",
    "\n",
    "self_service = TextHandlingService()\n",
    "\n",
    "client = MongoClient(os.environ[\"MONGODB_ATLAS_CLUSTER_URI\"])\n",
    "db = \"text\"\n",
    "collection_name = \"text\"\n",
    "search_index = \"hello\"\n",
    "collection = client[db][collection_name]\n",
    "\n",
    "embedder = OpenAIEmbeddings(\n",
    "        model=\"azure-text-embedding-3-large\",\n",
    "        api_key=os.environ[\"OPENAI_API_KEY\"],\n",
    "        base_url=os.environ['AZURE_OPENAI_ENDPOINT']\n",
    "    )\n",
    "\n",
    "model = ChatOpenAI(\n",
    "        base_url=os.environ[\"AZURE_OPENAI_ENDPOINT\"],\n",
    "        model=os.environ[\"AZURE_OPENAI_COMP_DEPLOYMENT_NAME\"],\n",
    "        api_key=os.environ[\"OPENAI_API_KEY\"]\n",
    "    )\n",
    "\n",
    "vectorstore = MongoDBAtlasVectorSearch(\n",
    "            collection=collection,\n",
    "            embedding=embedder,  # same embedding model used when saving\n",
    "            index_name=search_index,\n",
    "            relevance_score_fn=\"cosine\"\n",
    "        )\n",
    "\n",
    "text = \"Hello, My name is Halo.\"\n",
    "\n",
    "values = self_service.splitting(text)\n",
    "\n",
    "vector_store = self_service.embed_documents(values, embedder, collection, search_index)\n",
    "\n"
   ]
  }
 ],
 "metadata": {
  "kernelspec": {
   "display_name": "slack-chat-bot",
   "language": "python",
   "name": "python3"
  },
  "language_info": {
   "codemirror_mode": {
    "name": "ipython",
    "version": 3
   },
   "file_extension": ".py",
   "mimetype": "text/x-python",
   "name": "python",
   "nbconvert_exporter": "python",
   "pygments_lexer": "ipython3",
   "version": "3.13.1"
  }
 },
 "nbformat": 4,
 "nbformat_minor": 5
}
