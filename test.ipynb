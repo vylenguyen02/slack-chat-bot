{
 "cells": [
  {
   "cell_type": "code",
   "execution_count": 7,
   "id": "a22a542f",
   "metadata": {},
   "outputs": [
    {
     "name": "stdout",
     "output_type": "stream",
     "text": [
      "The image features an adorable light-colored kitten with striking blue eyes. The kitten has soft, fluffy fur that appears cream-colored with subtle stripes. It has prominent, upright ears and a small pink nose, contributing to its expressive and curious facial expression. The kitten's front paws are resting on a textured brown surface that resembles animal fur, possibly faux leopard print. The background is dark, which helps to highlight the kitten's features and soft fur. The overall composition conveys a sense of innocence and playfulness, capturing the charm of this young feline.\n"
     ]
    }
   ],
   "source": [
    "from slack_sdk import WebClient\n",
    "import os\n",
    "from dotenv import load_dotenv\n",
    "\n",
    "load_dotenv()\n",
    "\n",
    "conversation_id = os.environ[\"CONVERSATION_ID\"]\n",
    "client = WebClient(token=os.environ[\"BOT_USER_OAUTH_TOKEN\"])\n",
    "\n",
    "result = client.conversations_history(\n",
    "        channel=conversation_id,\n",
    "        inclusive=True,\n",
    "        limit=12\n",
    "    )\n",
    "\n",
    "message = result[\"messages\"][-2]\n",
    "    # Print message text\n",
    "print(message[\"text\"])"
   ]
  }
 ],
 "metadata": {
  "kernelspec": {
   "display_name": "slack-chat-bot",
   "language": "python",
   "name": "python3"
  },
  "language_info": {
   "codemirror_mode": {
    "name": "ipython",
    "version": 3
   },
   "file_extension": ".py",
   "mimetype": "text/x-python",
   "name": "python",
   "nbconvert_exporter": "python",
   "pygments_lexer": "ipython3",
   "version": "3.13.1"
  }
 },
 "nbformat": 4,
 "nbformat_minor": 5
}
